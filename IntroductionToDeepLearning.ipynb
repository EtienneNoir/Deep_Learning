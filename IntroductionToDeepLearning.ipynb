{
  "nbformat": 4,
  "nbformat_minor": 0,
  "metadata": {
    "colab": {
      "provenance": [],
      "authorship_tag": "ABX9TyOs5YsnwdLQxUH+W3jmun7s",
      "include_colab_link": true
    },
    "kernelspec": {
      "name": "python3",
      "display_name": "Python 3"
    },
    "language_info": {
      "name": "python"
    }
  },
  "cells": [
    {
      "cell_type": "markdown",
      "metadata": {
        "id": "view-in-github",
        "colab_type": "text"
      },
      "source": [
        "<a href=\"https://colab.research.google.com/github/EtienneNoir/Deep_Learning/blob/main/IntroductionToDeepLearning.ipynb\" target=\"_parent\"><img src=\"https://colab.research.google.com/assets/colab-badge.svg\" alt=\"Open In Colab\"/></a>"
      ]
    },
    {
      "cell_type": "code",
      "source": [
        "from tensorflow.keras.models import Sequential # to be able to create a sequential network\n",
        "from tensorflow.keras.layers import Dense, Rescaling # for rescalling and adding more layers to the model\n",
        "from tensorflow.keras.datasets import mnist # retrieving the dataset\n",
        "from tensorflow.keras.utils import to_categorical\n",
        "# Definition of the above import :\n",
        "#  - one hot encoding takes the categorical data, output data, identifies and seperates the different classes and then specify\n",
        "#  - which input or observation was specified to be any of the categories.\n",
        "#  - So it classifies using binaries 1's and 0's instead of using labels\n",
        "#  - Which is a format that the machine can understand and classify\n",
        "from tensorflow.keras.layers.experimental.preprocessing import Normalization\n",
        "\n",
        "(x_train, y_train), (x_test, y_test) = mnist.load_data(path=\"mnist.npz\") # defining from where the dataset will be retrived from since it not stored locally\n",
        "\n",
        "#Flattening the 28 by 28 pixals into 784 pixals.\n",
        "x_train = x_train.reshape((x_train.shape[0], 784)) # each input neuron in teh first layer (50) will receive the same input but have different weights to try and unciver a pattern from them\n",
        "x_test = x_test.reshape((x_test.shape[0], 784))\n",
        "\n",
        "\n",
        "# One-hot encode the labels, to identify the different outputs and convert them into values that can be used to classify an inputs\n",
        "y_train = to_categorical(y_train) # the output is one hot encoded\n",
        "y_test = to_categorical(y_test)\n",
        "\n",
        "# normalizing the input values, ensuring that the pixel values fall within the same range, a range that makes easier for the model to understand\n",
        "normalizer = Normalization()\n",
        "x_train = normalizer(x_train)\n",
        "x_test = normalizer(x_test)\n",
        "\n",
        "# Creating the network :\n",
        "\n",
        "# Create the model: model\n",
        "model = Sequential()\n",
        "# Adding the first hidden layer\n",
        "model.add(Dense(50, activation='relu', input_shape = (784,)))\n",
        "# Adding the second hidden layer, neurons are used to aggregate patterns that can be used to put together an image that can be used for predictions\n",
        "model.add(Dense(50, activation='relu'))\n",
        "# adding an output layer\n",
        "model.add(Dense(10, activation='softmax')) # Last layer has 10 neurons because there are 10 possible options or classes that an input can be\n",
        "\n",
        "# Compiling the model\n",
        "# Using adam as an optimiser to adjust the weights and find the best optimal weights\n",
        "model.compile(optimizer = 'adam', loss = 'categorical_crossentropy', metrics=['accuracy'])\n",
        "\n",
        "# Fitting the model\n",
        "model.fit(x_train, y_train, validation_split=0.3, epochs=10 )\n",
        "# validation of 0.3 is used to say that 70 percent of the training data will be used to train the model and adjust its weights to improve its performance and 30 percent will be used to just test the model here after it has been adjusted in this epoch\n",
        "\n",
        "# Evaluating the model\n",
        "test_loss, test_accuracy  = model.evaluate(x_test, y_test) # evaluating the model, testing the model after it has been adjusted to see how well it is able to predict on unseen data\n",
        "# Giving the model the memo and the unseen questions to see how many of the questions it got right in based on the answers given on the memo\n"
      ],
      "metadata": {
        "colab": {
          "base_uri": "https://localhost:8080/"
        },
        "id": "kIPdC7W4qU4W",
        "outputId": "3d8e2cc6-9781-4953-ec39-0d974b8b8002"
      },
      "execution_count": null,
      "outputs": [
        {
          "output_type": "stream",
          "name": "stdout",
          "text": [
            "Epoch 1/10\n",
            "1313/1313 [==============================] - 7s 5ms/step - loss: 2.2399 - accuracy: 0.7893 - val_loss: 0.5578 - val_accuracy: 0.8718\n",
            "Epoch 2/10\n",
            "1313/1313 [==============================] - 4s 3ms/step - loss: 0.4581 - accuracy: 0.8873 - val_loss: 0.4063 - val_accuracy: 0.9048\n",
            "Epoch 3/10\n",
            "1313/1313 [==============================] - 5s 4ms/step - loss: 0.3532 - accuracy: 0.9099 - val_loss: 0.3665 - val_accuracy: 0.9166\n",
            "Epoch 4/10\n",
            "1313/1313 [==============================] - 5s 4ms/step - loss: 0.3024 - accuracy: 0.9233 - val_loss: 0.4019 - val_accuracy: 0.9034\n",
            "Epoch 5/10\n",
            "1313/1313 [==============================] - 4s 3ms/step - loss: 0.2602 - accuracy: 0.9318 - val_loss: 0.2711 - val_accuracy: 0.9328\n",
            "Epoch 6/10\n",
            "1313/1313 [==============================] - 6s 5ms/step - loss: 0.2419 - accuracy: 0.9385 - val_loss: 0.2736 - val_accuracy: 0.9312\n",
            "Epoch 7/10\n",
            "1313/1313 [==============================] - 5s 4ms/step - loss: 0.2048 - accuracy: 0.9455 - val_loss: 0.2380 - val_accuracy: 0.9388\n",
            "Epoch 8/10\n",
            "1313/1313 [==============================] - 5s 4ms/step - loss: 0.1828 - accuracy: 0.9510 - val_loss: 0.2557 - val_accuracy: 0.9393\n",
            "Epoch 9/10\n",
            "1313/1313 [==============================] - 6s 5ms/step - loss: 0.1613 - accuracy: 0.9573 - val_loss: 0.2239 - val_accuracy: 0.9464\n",
            "Epoch 10/10\n",
            "1313/1313 [==============================] - 4s 3ms/step - loss: 0.1503 - accuracy: 0.9588 - val_loss: 0.2242 - val_accuracy: 0.9463\n",
            "313/313 [==============================] - 1s 2ms/step - loss: 0.2174 - accuracy: 0.9483\n"
          ]
        }
      ]
    },
    {
      "cell_type": "code",
      "source": [
        "print(f\"Test loss: {test_loss * 100}\") # difference or distance between the predictions and the actual answer\n",
        "print(f\"Test accuracy: {(test_accuracy * 100):.2f}%\") # .2f for two decimal places"
      ],
      "metadata": {
        "colab": {
          "base_uri": "https://localhost:8080/"
        },
        "id": "3OpTQmJW70rw",
        "outputId": "39978212-e264-4f89-8ad0-3700e6e364a6"
      },
      "execution_count": null,
      "outputs": [
        {
          "output_type": "stream",
          "name": "stdout",
          "text": [
            "Test loss: 28.568044304847717\n",
            "Test accuracy: 93.46%\n"
          ]
        }
      ]
    },
    {
      "cell_type": "code",
      "source": [
        "# making a prediction on a single image:\n",
        "# Image has already been rescaled\n",
        "# Keep working on chapter 4 and work on different datasets\n",
        "import numpy as np # Importing numpy for numbers manipulation and quick calculations\n",
        "import matplotlib.pyplot as plt # for visualization\n",
        "\n",
        "(x_train2, y_train2), (x_test2, y_test2) = mnist.load_data(path=\"mnist.npz\") # Importing mnist again to use differnt data to test the created model\n",
        "\n",
        "\n",
        "singleImage = x_test2[6] # extracting an image from the dataset\n",
        "\n",
        "singleIamgeAnswer = y_test[6] # extracting the answer for the image\n",
        "\n",
        "#predicting the single Image: reshaping it so that it can be fed to the machine (into the correct input format)\n",
        "single_image = singleImage.reshape(1, 784)  # Reshape to match input shape, flatting the 28 by 28 image to 784 as one array\n",
        "\n",
        "predicted_probabilities = model.predict(single_image) # predicting what the image is\n",
        "\n",
        "predicted_class = np.argmax(predicted_probabilities) # returns the class with the highest probability that the input is classified as\n",
        "\n",
        "print(f\"Predicted class: {predicted_class}\") # printing the extracted class\n",
        "\n",
        "\n",
        "\n",
        "plt.imshow(single_image.reshape(28, 28), cmap='gray') # Reshape back to 28x28 pixel image so that it can be displayed in its original format as a gray-scale\n",
        "plt.title(f\"Prediction: {predicted_class}, Actual Answer: {np.argmax(singleIamgeAnswer)}\") # Showing that the prediction is equal to the given answer\n",
        "plt.show() # used to show the canvas\n",
        "\n"
      ],
      "metadata": {
        "colab": {
          "base_uri": "https://localhost:8080/",
          "height": 487
        },
        "id": "uSOFa3yX9IVl",
        "outputId": "096eeb7b-2e79-4be7-9b55-178a6cc00f44"
      },
      "execution_count": null,
      "outputs": [
        {
          "output_type": "stream",
          "name": "stdout",
          "text": [
            "1/1 [==============================] - 0s 32ms/step\n",
            "Predicted class: 4\n"
          ]
        },
        {
          "output_type": "display_data",
          "data": {
            "text/plain": [
              "<Figure size 640x480 with 1 Axes>"
            ],
            "image/png": "[encoded data removed]"
          },
          "metadata": {}
        }
      ]
    }
  ]
}