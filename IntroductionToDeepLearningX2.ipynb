{
  "nbformat": 4,
  "nbformat_minor": 0,
  "metadata": {
    "colab": {
      "provenance": [],
      "authorship_tag": "ABX9TyMX26EWcTnS+6VAWfgQacLR",
      "include_colab_link": true
    },
    "kernelspec": {
      "name": "python3",
      "display_name": "Python 3"
    },
    "language_info": {
      "name": "python"
    }
  },
  "cells": [
    {
      "cell_type": "markdown",
      "metadata": {
        "id": "view-in-github",
        "colab_type": "text"
      },
      "source": [
        "<a href=\"https://colab.research.google.com/github/EtienneNoir/Deep_Learning/blob/main/IntroductionToDeepLearningX2.ipynb\" target=\"_parent\"><img src=\"https://colab.research.google.com/assets/colab-badge.svg\" alt=\"Open In Colab\"/></a>"
      ]
    },
    {
      "cell_type": "markdown",
      "source": [
        "#### Defining the different imports that will be used to create a network that will attempt to predict the numbers that are depcited in the inputs regardless of how they are written"
      ],
      "metadata": {
        "id": "tzqdSBUgbb5X"
      }
    },
    {
      "cell_type": "code",
      "execution_count": 2,
      "metadata": {
        "id": "WKXiUrWMYHG-"
      },
      "outputs": [],
      "source": [
        "from tensorflow.keras.models import Sequential # creating a sequential model that will have multiple layers arranged sequentially, one after the other\n",
        "from tensorflow.keras.layers import Dense # Importing the extra layers that will be used to uncover patterns from the input and predict which class teh input belongs to\n",
        "from tensorflow.keras.datasets import mnist # importing the mnist dataset that will be used to train and test the model\n",
        "from tensorflow.keras.utils import to_categorical # to implmement one hot encoding, to converting the categorical labels into 1's and zero's. Thus one's and  zeros will be used to identify the different classes\n",
        "from tensorflow.keras.layers.experimental.preprocessing import Normalization # to ensure that the pixel are all within the same rage, a range that the model can easily work with\n",
        "import numpy as np # for number manipulation and rapid calculation\n",
        "import matplotlib.pyplot as plt # for plotting or visialising the data\n",
        "from tensorflow.keras.callbacks import EarlyStopping"
      ]
    },
    {
      "cell_type": "markdown",
      "source": [
        "#### Importing or extracting the mnsit dataset with all its 70000 images from the specified path\n",
        "\n",
        "#### -  The dataset is split into 60 000 for training data and 10 000 as test data\n",
        "\n",
        "#### - The images in the dataset are 28 x 28 grayscale each representing 10 of the different digits/classes\n",
        "\n",
        "#### - It returns a Tuple of (x_train, y_train) , (x_test , y_test)\n",
        "\n",
        "#### - The x_train and y_train contains images that are 28 by 28 with pixal values ranging from 0 - 255. Thus the shape is (28,28)\n",
        "\n",
        "#### - y_test and y_train contains an array of digital labels that are mapped to the x dataset\n",
        "\n",
        "#### - x_train contains 60000 observations or instances that are 28 by 28 grids\n",
        "\n",
        "#### - y_train contains 10000 observations that are also 28 by 28"
      ],
      "metadata": {
        "id": "QCrRFBpUfyqZ"
      }
    },
    {
      "cell_type": "code",
      "source": [
        "(x_train, y_train), (x_test, y_test) = mnist.load_data(path='mnist')"
      ],
      "metadata": {
        "colab": {
          "base_uri": "https://localhost:8080/"
        },
        "id": "xF5GGR1Xf-Bv",
        "outputId": "998107de-f844-4766-e0f4-f73ba07c2317"
      },
      "execution_count": 3,
      "outputs": [
        {
          "output_type": "stream",
          "name": "stdout",
          "text": [
            "Downloading data from https://storage.googleapis.com/tensorflow/tf-keras-datasets/mnist.npz\n",
            "11490434/11490434 [==============================] - 0s 0us/step\n"
          ]
        }
      ]
    },
    {
      "cell_type": "markdown",
      "source": [
        "#### The following is used to flatten the x data of both the training and the test set into 784 pixals like they are in one row which is a required format that a Sequetial neural network with *Dense* layers expect"
      ],
      "metadata": {
        "id": "hMqlmtJuhxzG"
      }
    },
    {
      "cell_type": "code",
      "source": [
        "x_train = x_train.reshape((x_train.shape[0], 784)) # changing the shape from (60000, 28 , 28 ) to (60000, 784) - flatten the image into one single row of 784 pixals\n",
        "x_test  = x_test.reshape((x_test.shape[0] , 784)) # changing the shape from (10000, 28 , 28 ) to (10000, 784) - flatten the image into one single row of 784 pixlas thus each observation will be in this format"
      ],
      "metadata": {
        "id": "5iWRZwyEiGFo"
      },
      "execution_count": 4,
      "outputs": []
    },
    {
      "cell_type": "markdown",
      "source": [
        "#### Normalising the input values to ensure that the pixals values are within a smaller range of values that the neural network can easily work with"
      ],
      "metadata": {
        "id": "l8ZvLQmbks50"
      }
    },
    {
      "cell_type": "code",
      "source": [
        "normaliser = Normalization()\n",
        "x_train = normaliser(x_train)\n",
        "x_test  = normaliser(x_test)"
      ],
      "metadata": {
        "id": "wN3Uo5yCk48e"
      },
      "execution_count": 5,
      "outputs": []
    },
    {
      "cell_type": "markdown",
      "source": [
        "#### Implementing One Hot encoding to identify the different classes using binaries instead of labels. This is done on the y dataset"
      ],
      "metadata": {
        "id": "OBglIC66lmt7"
      }
    },
    {
      "cell_type": "code",
      "source": [
        "y_train = to_categorical(y_train)\n",
        "y_test = to_categorical(y_test)"
      ],
      "metadata": {
        "id": "p0HbOFRtlxDD"
      },
      "execution_count": 6,
      "outputs": []
    },
    {
      "cell_type": "markdown",
      "source": [
        "#### Creating a Sequential model, with three different layers\n",
        "#### - An input layers that will adjusted to except 784 pixals based images with un restrained amount of rows or observations which is denoted by , in the input layer\n",
        "\n",
        "#### - The output layer consists of 10 neurons because that are 10 possible options are classes that the input is predicted as"
      ],
      "metadata": {
        "id": "EJyOjUzLl9hj"
      }
    },
    {
      "cell_type": "code",
      "source": [
        "model = Sequential()\n",
        "model.add(Dense(110 , activation='relu', input_shape = (784,))) # activation relu is used to find non-linear patterns such as for example the curve of a mouth or eye, this is the input layer\n",
        "model.add(Dense(50, activation='relu')) # Defining the second layer that will be used to aggregate bigger patterns from the previous layer that can be used to put together the possible image that the model is trying to predict\n",
        "model.add(Dense(10 , activation='softmax')) # It converts the raw ouput score into probabilities or percentage score for each class to predict which class the input belongs to based on the class that has been assigned the highest percentage"
      ],
      "metadata": {
        "id": "6GSyDJALmdAD"
      },
      "execution_count": 51,
      "outputs": []
    },
    {
      "cell_type": "markdown",
      "source": [
        "#### Compiling the model so that it can be used, adam will be used to automatically perform gradient descent thus weight adjustments during training to find the optimal weights\n",
        "\n",
        "#### - The model will also ruten the loss thus the percentage of how how far the prediction is from the actual answer\n",
        "\n",
        "#### - The model will also return the accuracy score to indicate how many prediction will acturately predicted. In other words out of all the predictions made what is the percentage of all the predictions made that correspond to the memo ?"
      ],
      "metadata": {
        "id": "Hg7qYC8doMXZ"
      }
    },
    {
      "cell_type": "code",
      "source": [
        "early_stopping_monitor = EarlyStopping(patience=2) # if the score of the model doesn't improve for the next two epochs then training will stop\n",
        "model.compile(optimizer='adam', loss= 'categorical_crossentropy', metrics=['accuracy'])"
      ],
      "metadata": {
        "id": "AvZidRxxn_O4"
      },
      "execution_count": 52,
      "outputs": []
    },
    {
      "cell_type": "markdown",
      "source": [
        "#### Now to actually train the model using the training set by supplying the model with teh questions and the answers so that it can adjust its weights to ensure that it improves its accuracy\n",
        "\n",
        "### validation will 0.3 meaning that 30 percent of the training data in a specific epoch will be used as unseen data that will test the performance of teh model based on how its weight were adjusted in that epoch\n",
        "\n",
        "### The model will be trained 10 times, in other words the training data will be passed to teh model 10 times ensuring that the model improves each time"
      ],
      "metadata": {
        "id": "KOiARnWjoyM0"
      }
    },
    {
      "cell_type": "code",
      "source": [
        "#model.fit(x_train, y_train, validation_split = 0.3 , epochs = 10)\n",
        "model.fit(x_train, y_train, validation_split=0.3, epochs=20, callbacks = [early_stopping_monitor]) #fitting using early stop"
      ],
      "metadata": {
        "colab": {
          "base_uri": "https://localhost:8080/"
        },
        "id": "JzdTHlzmoLQ4",
        "outputId": "e7c895cb-92c4-4255-d781-d03c4888f4f6"
      },
      "execution_count": 53,
      "outputs": [
        {
          "output_type": "stream",
          "name": "stdout",
          "text": [
            "Epoch 1/20\n",
            "1313/1313 [==============================] - 7s 4ms/step - loss: 2.2369 - accuracy: 0.8329 - val_loss: 0.5088 - val_accuracy: 0.8831\n",
            "Epoch 2/20\n",
            "1313/1313 [==============================] - 7s 5ms/step - loss: 0.3775 - accuracy: 0.9061 - val_loss: 0.3159 - val_accuracy: 0.9237\n",
            "Epoch 3/20\n",
            "1313/1313 [==============================] - 6s 5ms/step - loss: 0.2574 - accuracy: 0.9323 - val_loss: 0.2722 - val_accuracy: 0.9307\n",
            "Epoch 4/20\n",
            "1313/1313 [==============================] - 7s 5ms/step - loss: 0.1961 - accuracy: 0.9458 - val_loss: 0.2341 - val_accuracy: 0.9355\n",
            "Epoch 5/20\n",
            "1313/1313 [==============================] - 5s 4ms/step - loss: 0.1602 - accuracy: 0.9538 - val_loss: 0.2003 - val_accuracy: 0.9502\n",
            "Epoch 6/20\n",
            "1313/1313 [==============================] - 7s 5ms/step - loss: 0.1435 - accuracy: 0.9589 - val_loss: 0.2070 - val_accuracy: 0.9486\n",
            "Epoch 7/20\n",
            "1313/1313 [==============================] - 5s 4ms/step - loss: 0.1266 - accuracy: 0.9640 - val_loss: 0.1872 - val_accuracy: 0.9558\n",
            "Epoch 8/20\n",
            "1313/1313 [==============================] - 7s 6ms/step - loss: 0.1099 - accuracy: 0.9683 - val_loss: 0.1638 - val_accuracy: 0.9589\n",
            "Epoch 9/20\n",
            "1313/1313 [==============================] - 5s 4ms/step - loss: 0.1014 - accuracy: 0.9708 - val_loss: 0.1748 - val_accuracy: 0.9589\n",
            "Epoch 10/20\n",
            "1313/1313 [==============================] - 7s 5ms/step - loss: 0.0928 - accuracy: 0.9736 - val_loss: 0.1740 - val_accuracy: 0.9580\n"
          ]
        },
        {
          "output_type": "execute_result",
          "data": {
            "text/plain": [
              "<keras.src.callbacks.History at 0x79102822fd60>"
            ]
          },
          "metadata": {},
          "execution_count": 53
        }
      ]
    },
    {
      "cell_type": "markdown",
      "source": [
        "#### Evaluating the model by providing it with unseen data to see how it will perform.\n",
        "\n",
        "#### The model is given the unseen data and the memo which is used to mark or assess how the model performed\n",
        "\n"
      ],
      "metadata": {
        "id": "9Z9GdzGqrvQq"
      }
    },
    {
      "cell_type": "code",
      "source": [
        "test_loss , test_accuracy = model.evaluate(x_test, y_test)"
      ],
      "metadata": {
        "colab": {
          "base_uri": "https://localhost:8080/"
        },
        "id": "duJZEEBIsCsf",
        "outputId": "0b8c8a68-2066-4cc7-9aa0-e0adbf2ffe0c"
      },
      "execution_count": 54,
      "outputs": [
        {
          "output_type": "stream",
          "name": "stdout",
          "text": [
            "313/313 [==============================] - 1s 2ms/step - loss: 0.1744 - accuracy: 0.9597\n"
          ]
        }
      ]
    },
    {
      "cell_type": "markdown",
      "source": [
        "#### Printing the accuracy score and the loss value score"
      ],
      "metadata": {
        "id": "axSPszz6spap"
      }
    },
    {
      "cell_type": "code",
      "source": [
        "print(f\"Test accuracy{(test_accuracy * 100): .2f}%\")\n",
        "print(f\"Loss value: {test_loss * 100}\")"
      ],
      "metadata": {
        "colab": {
          "base_uri": "https://localhost:8080/"
        },
        "id": "_mUyJUuzsuJH",
        "outputId": "0471d700-481d-4485-8090-aa887080dd99"
      },
      "execution_count": 55,
      "outputs": [
        {
          "output_type": "stream",
          "name": "stdout",
          "text": [
            "Test accuracy 95.97%\n",
            "Loss value: 17.44026392698288\n"
          ]
        }
      ]
    },
    {
      "cell_type": "markdown",
      "source": [
        "#### Now to assess how the model will do when one single image is passed to it"
      ],
      "metadata": {
        "id": "bXB_JPhss2_t"
      }
    },
    {
      "cell_type": "code",
      "source": [
        "((x_train2, y_train2) , (x_test2 , y_test2) )= mnist.load_data(path='mnsit')"
      ],
      "metadata": {
        "colab": {
          "base_uri": "https://localhost:8080/"
        },
        "id": "k5p1gj-Hs2la",
        "outputId": "63a316ae-5ee0-4ad9-f0de-2a92c3260e91"
      },
      "execution_count": 12,
      "outputs": [
        {
          "output_type": "stream",
          "name": "stdout",
          "text": [
            "Downloading data from https://storage.googleapis.com/tensorflow/tf-keras-datasets/mnist.npz\n",
            "11490434/11490434 [==============================] - 0s 0us/step\n"
          ]
        }
      ]
    },
    {
      "cell_type": "markdown",
      "source": [
        "#### Retrieving a single image from the x_test as well as its answer and reshapping it as well as required by Dense layer"
      ],
      "metadata": {
        "id": "2NvhYAG2tcSD"
      }
    },
    {
      "cell_type": "code",
      "source": [
        "singleImage = x_test2[0]\n",
        "singleImageAnswer2 = y_test2[0]"
      ],
      "metadata": {
        "id": "QcFs42XjtXWo"
      },
      "execution_count": 13,
      "outputs": []
    },
    {
      "cell_type": "markdown",
      "source": [
        "#### Reshapping the single image by flattining it"
      ],
      "metadata": {
        "id": "fLGkw7-At4N7"
      }
    },
    {
      "cell_type": "code",
      "source": [
        "singleImage = singleImage.reshape(1, 784) # Take the single image which is one observation and convert it to a single array"
      ],
      "metadata": {
        "id": "lSgzPHEMt-Ms"
      },
      "execution_count": 14,
      "outputs": []
    },
    {
      "cell_type": "markdown",
      "source": [
        "##### Predict what the unseen single Image is"
      ],
      "metadata": {
        "id": "YDQXJdgpuMEH"
      }
    },
    {
      "cell_type": "code",
      "source": [
        "prediction = model.predict(singleImage)"
      ],
      "metadata": {
        "colab": {
          "base_uri": "https://localhost:8080/"
        },
        "id": "LOmTPVvJuPmN",
        "outputId": "f453a2ae-07c7-42a9-f3d1-0605d8cd15ba"
      },
      "execution_count": 15,
      "outputs": [
        {
          "output_type": "stream",
          "name": "stdout",
          "text": [
            "1/1 [==============================] - 0s 102ms/step\n"
          ]
        }
      ]
    },
    {
      "cell_type": "markdown",
      "source": [
        "##### Retrieving the class with the highest probability that is given to teh input"
      ],
      "metadata": {
        "id": "57XI1CuAuXCP"
      }
    },
    {
      "cell_type": "code",
      "source": [
        "label = np.argmax(prediction)\n",
        "\n",
        "#printing the label\n",
        "print(f\"The unseen input image is classified as a:  {label}\")"
      ],
      "metadata": {
        "colab": {
          "base_uri": "https://localhost:8080/"
        },
        "id": "W6WGDdWBud50",
        "outputId": "ef5771f9-aca0-42c6-ad60-a69dc910a744"
      },
      "execution_count": 16,
      "outputs": [
        {
          "output_type": "stream",
          "name": "stdout",
          "text": [
            "The unseen input image is classified as a:  7\n"
          ]
        }
      ]
    },
    {
      "cell_type": "markdown",
      "source": [
        "#### using plt.imshow to display images, the input image\n",
        "\n",
        "#### First the input image is converted back to its original shape so that it can actuall be displayed as it was"
      ],
      "metadata": {
        "id": "CiUejACjuw-r"
      }
    },
    {
      "cell_type": "code",
      "source": [
        "plt.imshow(singleImage.reshape(28,28), cmap='gray') # using gray so that it can be displayed in grayscale the same way it is stored in the dataset\n",
        "plt.title(f\"The unseen input image is classified as a:  {label}, and the actuall answer on the memo is {(singleImageAnswer2)}\")"
      ],
      "metadata": {
        "colab": {
          "base_uri": "https://localhost:8080/",
          "height": 469
        },
        "id": "alombA45uwoA",
        "outputId": "2cd9ad38-f2ae-46e4-97af-5235ba1b5b0d"
      },
      "execution_count": 17,
      "outputs": [
        {
          "output_type": "execute_result",
          "data": {
            "text/plain": [
              "Text(0.5, 1.0, 'The unseen input image is classified as a:  7, and the actuall answer on the memo is 7')"
            ]
          },
          "metadata": {},
          "execution_count": 17
        },
        {
          "output_type": "display_data",
          "data": {
            "text/plain": [
              "<Figure size 640x480 with 1 Axes>"
            ],
            "image/png": "[encoded data removed]"
          },
          "metadata": {}
        }
      ]
    },
    {
      "cell_type": "markdown",
      "source": [
        "#### Implementing *Early Stopping* to indicate how many epochs the model can go without improving before before we stop for example of its 2 it means that if the score of the model does get better for the next 2 epochs then we will stop training, to save both time and comutational resources"
      ],
      "metadata": {
        "id": "E_10ZpfGyGDQ"
      }
    },
    {
      "cell_type": "code",
      "source": [
        "from tensorflow.keras.callbacks import EarlyStopping\n",
        "\n",
        "early_stopping_monitor = EarlyStopping(patience=2) # if the score of the model doesn't improve for the next two epochs then training will stop"
      ],
      "metadata": {
        "id": "S5BZniaRxDkI"
      },
      "execution_count": 18,
      "outputs": []
    },
    {
      "cell_type": "markdown",
      "source": [
        "#### Fitting the model with early stopping"
      ],
      "metadata": {
        "id": "IrJA_AtEyKE7"
      }
    },
    {
      "cell_type": "code",
      "source": [
        "model.fit(x_train, y_train, validation_split=0.3, epochs=10, callbacks = [early_stopping_monitor])"
      ],
      "metadata": {
        "colab": {
          "base_uri": "https://localhost:8080/"
        },
        "id": "RSDR_AioyMYf",
        "outputId": "1961481b-23f0-42aa-ebad-00e77ee3cf84"
      },
      "execution_count": 19,
      "outputs": [
        {
          "output_type": "stream",
          "name": "stdout",
          "text": [
            "Epoch 1/10\n",
            "1313/1313 [==============================] - 7s 5ms/step - loss: 0.0920 - accuracy: 0.9735 - val_loss: 0.1891 - val_accuracy: 0.9536\n",
            "Epoch 2/10\n",
            "1313/1313 [==============================] - 8s 6ms/step - loss: 0.0859 - accuracy: 0.9747 - val_loss: 0.1795 - val_accuracy: 0.9606\n",
            "Epoch 3/10\n",
            "1313/1313 [==============================] - 5s 4ms/step - loss: 0.0807 - accuracy: 0.9774 - val_loss: 0.2023 - val_accuracy: 0.9553\n",
            "Epoch 4/10\n",
            "1313/1313 [==============================] - 6s 4ms/step - loss: 0.0798 - accuracy: 0.9769 - val_loss: 0.1741 - val_accuracy: 0.9626\n",
            "Epoch 5/10\n",
            "1313/1313 [==============================] - 7s 5ms/step - loss: 0.0725 - accuracy: 0.9792 - val_loss: 0.2130 - val_accuracy: 0.9580\n",
            "Epoch 6/10\n",
            "1313/1313 [==============================] - 5s 4ms/step - loss: 0.0700 - accuracy: 0.9803 - val_loss: 0.1780 - val_accuracy: 0.9641\n"
          ]
        },
        {
          "output_type": "execute_result",
          "data": {
            "text/plain": [
              "<keras.src.callbacks.History at 0x791030979270>"
            ]
          },
          "metadata": {},
          "execution_count": 19
        }
      ]
    }
  ]
}